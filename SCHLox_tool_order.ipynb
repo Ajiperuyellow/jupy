{
 "cells": [
  {
   "cell_type": "markdown",
   "metadata": {},
   "source": [
    "# SCHLox tool intelligence\n",
    "\n",
    "## This tool provides the optimal layout for your SCHLox\n",
    "\n",
    "\n",
    "### 1.) Specify your tools:"
   ]
  },
  {
   "cell_type": "code",
   "execution_count": 62,
   "metadata": {},
   "outputs": [
    {
     "data": {
      "application/vnd.jupyter.widget-view+json": {
       "model_id": "4fdce97ea01b4cd1a2b9f5e4210ca6a0",
       "version_major": 2,
       "version_minor": 0
      },
      "text/plain": [
       "HBox(children=(IntSlider(value=100, continuous_update=False, max=200, min=1), IntSlider(value=100, continuous_…"
      ]
     },
     "metadata": {},
     "output_type": "display_data"
    },
    {
     "data": {
      "application/vnd.jupyter.widget-view+json": {
       "model_id": "5d6985bc9cec4489b8ea1b2e4503ecb3",
       "version_major": 2,
       "version_minor": 0
      },
      "text/plain": [
       "Output()"
      ]
     },
     "metadata": {},
     "output_type": "display_data"
    }
   ],
   "source": [
    "import matplotlib.pyplot as plt\n",
    "from ipywidgets import interact, interactive, fixed, interact_manual\n",
    "import ipywidgets as widgets\n",
    "\n",
    "global xValue, yValue;\n",
    "\n",
    "\n",
    "\n",
    "def plot_func(x,y):\n",
    "    xValue = x;\n",
    "    yValue =y;\n",
    "    plt.clf()\n",
    "    rectangle = plt.Rectangle((0, 0), x, y, fc='r')\n",
    "    plt.gca().add_patch(rectangle)\n",
    "    plt.axis('scaled')\n",
    "    plt.show()\n",
    "    print(\"This tool has a size of \" + str(x) + \" cm x \" + str(y) + \" cm\")\n",
    "\n",
    "\n",
    "#interact(plot_func, freq = widgets.FloatSlider(value=100,\n",
    "#                                               min=1,\n",
    "#                                               max=200.0,\n",
    "#                                               step=1))\n",
    "\n",
    "x = widgets.IntSlider(value=100,min=1,max=200.0,step=1, continuous_update=False)\n",
    "y = widgets.IntSlider(value=100,min=1,max=200.0,step=1, continuous_update=False)\n",
    "ui = widgets.HBox([x, y])\n",
    "\n",
    "out = widgets.interactive_output(plot_func, {'x': x, 'y': y})\n",
    "\n",
    "display(ui, out)\n",
    "\n"
   ]
  },
  {
   "cell_type": "markdown",
   "metadata": {},
   "source": [
    "*Result:*"
   ]
  }
 ],
 "metadata": {
  "kernelspec": {
   "display_name": "Python 3",
   "language": "python",
   "name": "python3"
  },
  "language_info": {
   "codemirror_mode": {
    "name": "ipython",
    "version": 3
   },
   "file_extension": ".py",
   "mimetype": "text/x-python",
   "name": "python",
   "nbconvert_exporter": "python",
   "pygments_lexer": "ipython3",
   "version": "3.7.6"
  }
 },
 "nbformat": 4,
 "nbformat_minor": 4
}
